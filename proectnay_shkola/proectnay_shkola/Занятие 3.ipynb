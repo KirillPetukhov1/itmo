{
 "cells": [
  {
   "cell_type": "markdown",
   "id": "2119211c",
   "metadata": {},
   "source": [
    "## Визуальный анализ данных"
   ]
  },
  {
   "cell_type": "code",
   "execution_count": 8,
   "id": "21fc781f",
   "metadata": {
    "vscode": {
     "languageId": "powershell"
    }
   },
   "outputs": [
    {
     "name": "stdout",
     "output_type": "stream",
     "text": [
      "Requirement already satisfied: pandas in c:\\users\\k4484\\anaconda3\\envs\\proectnayshkola\\lib\\site-packages (2.3.3)\n",
      "Requirement already satisfied: seaborn in c:\\users\\k4484\\anaconda3\\envs\\proectnayshkola\\lib\\site-packages (0.13.2)\n",
      "Requirement already satisfied: openpyxl in c:\\users\\k4484\\anaconda3\\envs\\proectnayshkola\\lib\\site-packages (3.1.5)\n",
      "Requirement already satisfied: numpy in c:\\users\\k4484\\anaconda3\\envs\\proectnayshkola\\lib\\site-packages (2.3.3)\n",
      "Collecting scipy\n",
      "  Downloading scipy-1.16.2-cp313-cp313-win_amd64.whl.metadata (60 kB)\n",
      "Requirement already satisfied: python-dateutil>=2.8.2 in c:\\users\\k4484\\anaconda3\\envs\\proectnayshkola\\lib\\site-packages (from pandas) (2.9.0.post0)\n",
      "Requirement already satisfied: pytz>=2020.1 in c:\\users\\k4484\\anaconda3\\envs\\proectnayshkola\\lib\\site-packages (from pandas) (2025.2)\n",
      "Requirement already satisfied: tzdata>=2022.7 in c:\\users\\k4484\\anaconda3\\envs\\proectnayshkola\\lib\\site-packages (from pandas) (2025.2)\n",
      "Requirement already satisfied: matplotlib!=3.6.1,>=3.4 in c:\\users\\k4484\\anaconda3\\envs\\proectnayshkola\\lib\\site-packages (from seaborn) (3.10.6)\n",
      "Requirement already satisfied: et-xmlfile in c:\\users\\k4484\\anaconda3\\envs\\proectnayshkola\\lib\\site-packages (from openpyxl) (2.0.0)\n",
      "Requirement already satisfied: contourpy>=1.0.1 in c:\\users\\k4484\\anaconda3\\envs\\proectnayshkola\\lib\\site-packages (from matplotlib!=3.6.1,>=3.4->seaborn) (1.3.3)\n",
      "Requirement already satisfied: cycler>=0.10 in c:\\users\\k4484\\anaconda3\\envs\\proectnayshkola\\lib\\site-packages (from matplotlib!=3.6.1,>=3.4->seaborn) (0.12.1)\n",
      "Requirement already satisfied: fonttools>=4.22.0 in c:\\users\\k4484\\anaconda3\\envs\\proectnayshkola\\lib\\site-packages (from matplotlib!=3.6.1,>=3.4->seaborn) (4.60.1)\n",
      "Requirement already satisfied: kiwisolver>=1.3.1 in c:\\users\\k4484\\anaconda3\\envs\\proectnayshkola\\lib\\site-packages (from matplotlib!=3.6.1,>=3.4->seaborn) (1.4.9)\n",
      "Requirement already satisfied: packaging>=20.0 in c:\\users\\k4484\\anaconda3\\envs\\proectnayshkola\\lib\\site-packages (from matplotlib!=3.6.1,>=3.4->seaborn) (25.0)\n",
      "Requirement already satisfied: pillow>=8 in c:\\users\\k4484\\anaconda3\\envs\\proectnayshkola\\lib\\site-packages (from matplotlib!=3.6.1,>=3.4->seaborn) (11.3.0)\n",
      "Requirement already satisfied: pyparsing>=2.3.1 in c:\\users\\k4484\\anaconda3\\envs\\proectnayshkola\\lib\\site-packages (from matplotlib!=3.6.1,>=3.4->seaborn) (3.2.5)\n",
      "Requirement already satisfied: six>=1.5 in c:\\users\\k4484\\anaconda3\\envs\\proectnayshkola\\lib\\site-packages (from python-dateutil>=2.8.2->pandas) (1.17.0)\n",
      "Downloading scipy-1.16.2-cp313-cp313-win_amd64.whl (38.5 MB)\n",
      "   ---------------------------------------- 0.0/38.5 MB ? eta -:--:--\n",
      "    --------------------------------------- 0.8/38.5 MB 10.8 MB/s eta 0:00:04\n",
      "   -- ------------------------------------- 2.4/38.5 MB 6.8 MB/s eta 0:00:06\n",
      "   --- ------------------------------------ 3.1/38.5 MB 5.7 MB/s eta 0:00:07\n",
      "   ---- ----------------------------------- 4.5/38.5 MB 5.6 MB/s eta 0:00:07\n",
      "   ----- ---------------------------------- 5.8/38.5 MB 5.8 MB/s eta 0:00:06\n",
      "   ------ --------------------------------- 6.6/38.5 MB 5.6 MB/s eta 0:00:06\n",
      "   ------- -------------------------------- 7.3/38.5 MB 5.3 MB/s eta 0:00:06\n",
      "   -------- ------------------------------- 7.9/38.5 MB 5.0 MB/s eta 0:00:07\n",
      "   -------- ------------------------------- 8.4/38.5 MB 4.6 MB/s eta 0:00:07\n",
      "   -------- ------------------------------- 8.7/38.5 MB 4.4 MB/s eta 0:00:07\n",
      "   --------- ------------------------------ 8.9/38.5 MB 4.1 MB/s eta 0:00:08\n",
      "   --------- ------------------------------ 9.2/38.5 MB 3.9 MB/s eta 0:00:08\n",
      "   --------- ------------------------------ 9.4/38.5 MB 3.7 MB/s eta 0:00:08\n",
      "   ---------- ----------------------------- 10.0/38.5 MB 3.5 MB/s eta 0:00:09\n",
      "   ---------- ----------------------------- 10.2/38.5 MB 3.4 MB/s eta 0:00:09\n",
      "   ----------- ---------------------------- 10.7/38.5 MB 3.3 MB/s eta 0:00:09\n",
      "   ----------- ---------------------------- 11.3/38.5 MB 3.3 MB/s eta 0:00:09\n",
      "   ------------ --------------------------- 11.8/38.5 MB 3.2 MB/s eta 0:00:09\n",
      "   ------------ --------------------------- 12.1/38.5 MB 3.1 MB/s eta 0:00:09\n",
      "   ------------ --------------------------- 12.1/38.5 MB 3.1 MB/s eta 0:00:09\n",
      "   ------------ --------------------------- 12.3/38.5 MB 2.9 MB/s eta 0:00:10\n",
      "   ------------ --------------------------- 12.3/38.5 MB 2.9 MB/s eta 0:00:10\n",
      "   ------------ --------------------------- 12.3/38.5 MB 2.9 MB/s eta 0:00:10\n",
      "   ------------- -------------------------- 12.6/38.5 MB 2.6 MB/s eta 0:00:10\n",
      "   ------------- -------------------------- 12.8/38.5 MB 2.5 MB/s eta 0:00:11\n",
      "   ------------- -------------------------- 13.1/38.5 MB 2.4 MB/s eta 0:00:11\n",
      "   ------------- -------------------------- 13.4/38.5 MB 2.4 MB/s eta 0:00:11\n",
      "   -------------- ------------------------- 13.6/38.5 MB 2.4 MB/s eta 0:00:11\n",
      "   -------------- ------------------------- 13.6/38.5 MB 2.4 MB/s eta 0:00:11\n",
      "   -------------- ------------------------- 13.9/38.5 MB 2.3 MB/s eta 0:00:11\n",
      "   -------------- ------------------------- 14.2/38.5 MB 2.3 MB/s eta 0:00:11\n",
      "   -------------- ------------------------- 14.4/38.5 MB 2.2 MB/s eta 0:00:11\n",
      "   --------------- ------------------------ 14.7/38.5 MB 2.2 MB/s eta 0:00:11\n",
      "   --------------- ------------------------ 14.9/38.5 MB 2.2 MB/s eta 0:00:11\n",
      "   --------------- ------------------------ 15.2/38.5 MB 2.2 MB/s eta 0:00:11\n",
      "   ---------------- ----------------------- 15.5/38.5 MB 2.1 MB/s eta 0:00:11\n",
      "   ---------------- ----------------------- 15.7/38.5 MB 2.1 MB/s eta 0:00:12\n",
      "   ---------------- ----------------------- 15.7/38.5 MB 2.1 MB/s eta 0:00:12\n",
      "   ---------------- ----------------------- 15.7/38.5 MB 2.1 MB/s eta 0:00:12\n",
      "   ---------------- ----------------------- 16.0/38.5 MB 2.0 MB/s eta 0:00:12\n",
      "   ---------------- ----------------------- 16.0/38.5 MB 2.0 MB/s eta 0:00:12\n",
      "   ---------------- ----------------------- 16.3/38.5 MB 1.9 MB/s eta 0:00:12\n",
      "   ----------------- ---------------------- 16.5/38.5 MB 1.9 MB/s eta 0:00:12\n",
      "   ----------------- ---------------------- 16.8/38.5 MB 1.9 MB/s eta 0:00:12\n",
      "   ----------------- ---------------------- 17.0/38.5 MB 1.8 MB/s eta 0:00:12\n",
      "   ----------------- ---------------------- 17.3/38.5 MB 1.8 MB/s eta 0:00:12\n",
      "   ------------------ --------------------- 17.6/38.5 MB 1.8 MB/s eta 0:00:12\n",
      "   ------------------ --------------------- 17.6/38.5 MB 1.8 MB/s eta 0:00:12\n",
      "   ------------------ --------------------- 17.8/38.5 MB 1.8 MB/s eta 0:00:12\n",
      "   ------------------ --------------------- 17.8/38.5 MB 1.8 MB/s eta 0:00:12\n",
      "   ------------------ --------------------- 18.1/38.5 MB 1.7 MB/s eta 0:00:12\n",
      "   ------------------- -------------------- 18.4/38.5 MB 1.7 MB/s eta 0:00:12\n",
      "   ------------------- -------------------- 18.6/38.5 MB 1.7 MB/s eta 0:00:12\n",
      "   ------------------- -------------------- 18.9/38.5 MB 1.7 MB/s eta 0:00:12\n",
      "   ------------------- -------------------- 19.1/38.5 MB 1.7 MB/s eta 0:00:12\n",
      "   ------------------- -------------------- 19.1/38.5 MB 1.7 MB/s eta 0:00:12\n",
      "   -------------------- ------------------- 19.4/38.5 MB 1.7 MB/s eta 0:00:12\n",
      "   -------------------- ------------------- 19.7/38.5 MB 1.7 MB/s eta 0:00:12\n",
      "   -------------------- ------------------- 19.9/38.5 MB 1.7 MB/s eta 0:00:12\n",
      "   -------------------- ------------------- 20.2/38.5 MB 1.7 MB/s eta 0:00:12\n",
      "   -------------------- ------------------- 20.2/38.5 MB 1.7 MB/s eta 0:00:12\n",
      "   --------------------- ------------------ 20.4/38.5 MB 1.6 MB/s eta 0:00:12\n",
      "   --------------------- ------------------ 20.4/38.5 MB 1.6 MB/s eta 0:00:12\n",
      "   --------------------- ------------------ 20.7/38.5 MB 1.6 MB/s eta 0:00:12\n",
      "   --------------------- ------------------ 20.7/38.5 MB 1.6 MB/s eta 0:00:12\n",
      "   --------------------- ------------------ 21.0/38.5 MB 1.5 MB/s eta 0:00:12\n",
      "   ---------------------- ----------------- 21.2/38.5 MB 1.5 MB/s eta 0:00:12\n",
      "   ---------------------- ----------------- 21.2/38.5 MB 1.5 MB/s eta 0:00:12\n",
      "   ---------------------- ----------------- 21.5/38.5 MB 1.5 MB/s eta 0:00:12\n",
      "   ---------------------- ----------------- 21.8/38.5 MB 1.5 MB/s eta 0:00:12\n",
      "   ---------------------- ----------------- 21.8/38.5 MB 1.5 MB/s eta 0:00:12\n",
      "   ---------------------- ----------------- 22.0/38.5 MB 1.5 MB/s eta 0:00:12\n",
      "   ----------------------- ---------------- 22.3/38.5 MB 1.5 MB/s eta 0:00:11\n",
      "   ----------------------- ---------------- 22.5/38.5 MB 1.5 MB/s eta 0:00:11\n",
      "   ----------------------- ---------------- 22.8/38.5 MB 1.5 MB/s eta 0:00:11\n",
      "   ----------------------- ---------------- 22.8/38.5 MB 1.5 MB/s eta 0:00:11\n",
      "   ----------------------- ---------------- 23.1/38.5 MB 1.5 MB/s eta 0:00:11\n",
      "   ------------------------ --------------- 23.3/38.5 MB 1.5 MB/s eta 0:00:11\n",
      "   ------------------------ --------------- 23.6/38.5 MB 1.5 MB/s eta 0:00:11\n",
      "   ------------------------ --------------- 23.6/38.5 MB 1.5 MB/s eta 0:00:11\n",
      "   ------------------------ --------------- 23.9/38.5 MB 1.4 MB/s eta 0:00:11\n",
      "   ------------------------- -------------- 24.1/38.5 MB 1.4 MB/s eta 0:00:11\n",
      "   ------------------------- -------------- 24.4/38.5 MB 1.4 MB/s eta 0:00:10\n",
      "   ------------------------- -------------- 24.6/38.5 MB 1.4 MB/s eta 0:00:10\n",
      "   ------------------------- -------------- 24.9/38.5 MB 1.4 MB/s eta 0:00:10\n",
      "   -------------------------- ------------- 25.2/38.5 MB 1.4 MB/s eta 0:00:10\n",
      "   -------------------------- ------------- 25.2/38.5 MB 1.4 MB/s eta 0:00:10\n",
      "   -------------------------- ------------- 25.4/38.5 MB 1.4 MB/s eta 0:00:10\n",
      "   -------------------------- ------------- 25.7/38.5 MB 1.4 MB/s eta 0:00:10\n",
      "   -------------------------- ------------- 25.7/38.5 MB 1.4 MB/s eta 0:00:10\n",
      "   -------------------------- ------------- 25.7/38.5 MB 1.4 MB/s eta 0:00:10\n",
      "   -------------------------- ------------- 26.0/38.5 MB 1.4 MB/s eta 0:00:10\n",
      "   -------------------------- ------------- 26.0/38.5 MB 1.4 MB/s eta 0:00:10\n",
      "   --------------------------- ------------ 26.2/38.5 MB 1.4 MB/s eta 0:00:10\n",
      "   --------------------------- ------------ 26.2/38.5 MB 1.4 MB/s eta 0:00:10\n",
      "   --------------------------- ------------ 26.2/38.5 MB 1.4 MB/s eta 0:00:10\n",
      "   --------------------------- ------------ 26.5/38.5 MB 1.3 MB/s eta 0:00:10\n",
      "   --------------------------- ------------ 26.7/38.5 MB 1.3 MB/s eta 0:00:09\n",
      "   --------------------------- ------------ 26.7/38.5 MB 1.3 MB/s eta 0:00:09\n",
      "   ---------------------------- ----------- 27.0/38.5 MB 1.3 MB/s eta 0:00:09\n",
      "   ---------------------------- ----------- 27.3/38.5 MB 1.3 MB/s eta 0:00:09\n",
      "   ---------------------------- ----------- 27.5/38.5 MB 1.3 MB/s eta 0:00:09\n",
      "   ---------------------------- ----------- 27.8/38.5 MB 1.3 MB/s eta 0:00:09\n",
      "   ----------------------------- ---------- 28.0/38.5 MB 1.3 MB/s eta 0:00:08\n",
      "   ----------------------------- ---------- 28.6/38.5 MB 1.3 MB/s eta 0:00:08\n",
      "   ----------------------------- ---------- 28.8/38.5 MB 1.3 MB/s eta 0:00:08\n",
      "   ------------------------------ --------- 29.1/38.5 MB 1.3 MB/s eta 0:00:08\n",
      "   ------------------------------ --------- 29.4/38.5 MB 1.3 MB/s eta 0:00:07\n",
      "   ------------------------------ --------- 29.6/38.5 MB 1.3 MB/s eta 0:00:07\n",
      "   ------------------------------ --------- 29.6/38.5 MB 1.3 MB/s eta 0:00:07\n",
      "   ------------------------------- -------- 29.9/38.5 MB 1.3 MB/s eta 0:00:07\n",
      "   ------------------------------- -------- 30.1/38.5 MB 1.3 MB/s eta 0:00:07\n",
      "   ------------------------------- -------- 30.4/38.5 MB 1.3 MB/s eta 0:00:07\n",
      "   ------------------------------- -------- 30.7/38.5 MB 1.3 MB/s eta 0:00:06\n",
      "   -------------------------------- ------- 30.9/38.5 MB 1.3 MB/s eta 0:00:06\n",
      "   -------------------------------- ------- 31.2/38.5 MB 1.3 MB/s eta 0:00:06\n",
      "   -------------------------------- ------- 31.5/38.5 MB 1.3 MB/s eta 0:00:06\n",
      "   -------------------------------- ------- 31.7/38.5 MB 1.3 MB/s eta 0:00:06\n",
      "   --------------------------------- ------ 32.0/38.5 MB 1.3 MB/s eta 0:00:05\n",
      "   --------------------------------- ------ 32.2/38.5 MB 1.3 MB/s eta 0:00:05\n",
      "   --------------------------------- ------ 32.5/38.5 MB 1.3 MB/s eta 0:00:05\n",
      "   --------------------------------- ------ 32.5/38.5 MB 1.3 MB/s eta 0:00:05\n",
      "   ---------------------------------- ----- 32.8/38.5 MB 1.3 MB/s eta 0:00:05\n",
      "   ---------------------------------- ----- 33.0/38.5 MB 1.3 MB/s eta 0:00:05\n",
      "   ---------------------------------- ----- 33.0/38.5 MB 1.3 MB/s eta 0:00:05\n",
      "   ---------------------------------- ----- 33.3/38.5 MB 1.3 MB/s eta 0:00:05\n",
      "   ---------------------------------- ----- 33.3/38.5 MB 1.3 MB/s eta 0:00:05\n",
      "   ---------------------------------- ----- 33.6/38.5 MB 1.3 MB/s eta 0:00:04\n",
      "   ----------------------------------- ---- 33.8/38.5 MB 1.3 MB/s eta 0:00:04\n",
      "   ----------------------------------- ---- 33.8/38.5 MB 1.3 MB/s eta 0:00:04\n",
      "   ----------------------------------- ---- 34.1/38.5 MB 1.3 MB/s eta 0:00:04\n",
      "   ----------------------------------- ---- 34.3/38.5 MB 1.3 MB/s eta 0:00:04\n",
      "   ----------------------------------- ---- 34.3/38.5 MB 1.3 MB/s eta 0:00:04\n",
      "   ----------------------------------- ---- 34.6/38.5 MB 1.3 MB/s eta 0:00:04\n",
      "   ------------------------------------ --- 35.1/38.5 MB 1.3 MB/s eta 0:00:03\n",
      "   ------------------------------------ --- 35.4/38.5 MB 1.3 MB/s eta 0:00:03\n",
      "   ------------------------------------- -- 35.7/38.5 MB 1.3 MB/s eta 0:00:03\n",
      "   ------------------------------------- -- 36.2/38.5 MB 1.3 MB/s eta 0:00:02\n",
      "   ------------------------------------- -- 36.4/38.5 MB 1.3 MB/s eta 0:00:02\n",
      "   -------------------------------------- - 36.7/38.5 MB 1.3 MB/s eta 0:00:02\n",
      "   -------------------------------------- - 37.2/38.5 MB 1.3 MB/s eta 0:00:02\n",
      "   -------------------------------------- - 37.5/38.5 MB 1.3 MB/s eta 0:00:01\n",
      "   ---------------------------------------  37.7/38.5 MB 1.3 MB/s eta 0:00:01\n",
      "   ---------------------------------------  38.0/38.5 MB 1.3 MB/s eta 0:00:01\n",
      "   ---------------------------------------  38.3/38.5 MB 1.3 MB/s eta 0:00:01\n",
      "   ---------------------------------------- 38.5/38.5 MB 1.3 MB/s  0:00:29\n",
      "Installing collected packages: scipy\n",
      "Successfully installed scipy-1.16.2\n",
      "Note: you may need to restart the kernel to use updated packages.\n"
     ]
    }
   ],
   "source": [
    "pip install pandas seaborn openpyxl numpy scipy"
   ]
  },
  {
   "cell_type": "code",
   "execution_count": 3,
   "id": "fdc58705",
   "metadata": {},
   "outputs": [],
   "source": [
    "import pandas as pd\n",
    "import numpy as np\n",
    "import matplotlib.pyplot as plt"
   ]
  },
  {
   "cell_type": "code",
   "execution_count": 6,
   "id": "d10aa6f7",
   "metadata": {},
   "outputs": [],
   "source": [
    "df = pd.read_csv('used_cars_data.csv')"
   ]
  },
  {
   "cell_type": "code",
   "execution_count": 2,
   "id": "aacc795e",
   "metadata": {},
   "outputs": [],
   "source": [
    "num_col  = \"Price\"\n",
    "num_col2 = \"Kilometers_Driven\"\n",
    "cat_col  = \"Fuel_Type\""
   ]
  },
  {
   "cell_type": "markdown",
   "id": "81e21b6a",
   "metadata": {},
   "source": [
    "#### Гистограмма"
   ]
  },
  {
   "cell_type": "code",
   "execution_count": 7,
   "id": "a4288be5",
   "metadata": {
    "scrolled": false
   },
   "outputs": [
    {
     "data": {
      "image/png": "[encoded data removed]",
      "text/plain": [
       "<Figure size 640x480 with 1 Axes>"
      ]
     },
     "metadata": {},
     "output_type": "display_data"
    }
   ],
   "source": [
    "data = pd.to_numeric(df[num_col], errors=\"coerce\").dropna()\n",
    "\n",
    "plt.figure()\n",
    "plt.hist(data, bins=30)\n",
    "plt.title(f\"Histogram of {num_col}\")\n",
    "plt.xlabel(num_col); plt.ylabel(\"Count\")\n",
    "plt.tight_layout(); plt.show()"
   ]
  },
  {
   "cell_type": "markdown",
   "id": "beafd23a",
   "metadata": {},
   "source": [
    "#### KDE"
   ]
  },
  {
   "cell_type": "code",
   "execution_count": 9,
   "id": "8e7545ed",
   "metadata": {},
   "outputs": [
    {
     "data": {
      "image/png": "[encoded data removed]",
      "text/plain": [
       "<Figure size 640x480 with 1 Axes>"
      ]
     },
     "metadata": {},
     "output_type": "display_data"
    }
   ],
   "source": [
    "import numpy as np\n",
    "import pandas as pd\n",
    "import matplotlib.pyplot as plt\n",
    "from scipy.stats import gaussian_kde  # <--- вот этого не хватало\n",
    "\n",
    "# === настройки ===\n",
    "col = \"Price\"        # замени на свой столбец при необходимости\n",
    "\n",
    "# === очистка данных ===\n",
    "x = pd.to_numeric(df[col], errors=\"coerce\")   \n",
    "x = x.dropna()\n",
    "\n",
    "if x.size < 2 or np.isclose(x.std(ddof=1), 0):\n",
    "    raise ValueError(f\"Недостаточно вариации в '{col}' после очистки для KDE.\")\n",
    "\n",
    "# ограничим хвосты, чтобы график не «сплющивался» из-за выбросов\n",
    "lo, hi = np.quantile(x, [0.005, 0.995])\n",
    "if not (np.isfinite(lo) and np.isfinite(hi)) or lo >= hi:\n",
    "    lo, hi = x.min(), x.max()\n",
    "\n",
    "xs = np.linspace(lo, hi, 400)\n",
    "\n",
    "# === KDE и график ===\n",
    "kde = gaussian_kde(x.values)\n",
    "plt.figure()\n",
    "plt.plot(xs, kde(xs))\n",
    "plt.title(f\"KDE of {col}\")\n",
    "plt.xlabel(col)\n",
    "plt.ylabel(\"Density\")\n",
    "plt.tight_layout()\n",
    "plt.show()"
   ]
  },
  {
   "cell_type": "markdown",
   "id": "6d3d6d3b",
   "metadata": {},
   "source": [
    "#### Boxplot"
   ]
  },
  {
   "cell_type": "code",
   "execution_count": 10,
   "id": "f2505bbd",
   "metadata": {},
   "outputs": [
    {
     "data": {
      "image/png": "[encoded data removed]",
      "text/plain": [
       "<Figure size 640x480 with 1 Axes>"
      ]
     },
     "metadata": {},
     "output_type": "display_data"
    }
   ],
   "source": [
    "data = pd.to_numeric(df[num_col], errors=\"coerce\").dropna()\n",
    "\n",
    "plt.figure()\n",
    "plt.boxplot(data, vert=True, showfliers=True)\n",
    "plt.title(f\"Boxplot of {num_col}\")\n",
    "plt.ylabel(num_col)\n",
    "plt.tight_layout(); plt.show()"
   ]
  },
  {
   "cell_type": "markdown",
   "id": "b3c50347",
   "metadata": {},
   "source": [
    "#### EDCF"
   ]
  },
  {
   "cell_type": "code",
   "execution_count": null,
   "id": "18637809",
   "metadata": {
    "scrolled": false
   },
   "outputs": [],
   "source": [
    "x = pd.to_numeric(df[num_col], errors=\"coerce\").dropna().values\n",
    "x_sorted = np.sort(x)\n",
    "y = np.arange(1, x_sorted.size + 1) / x_sorted.size\n",
    "\n",
    "plt.figure()\n",
    "plt.step(x_sorted, y, where=\"post\")\n",
    "plt.title(f\"ECDF of {num_col}\")\n",
    "plt.xlabel(num_col); plt.ylabel(\"ECDF\")\n",
    "plt.tight_layout(); plt.show()"
   ]
  },
  {
   "cell_type": "markdown",
   "id": "f35f29d8",
   "metadata": {},
   "source": [
    "#### Bar chart (каунтер) по типам двигателя  "
   ]
  },
  {
   "cell_type": "code",
   "execution_count": null,
   "id": "5240e387",
   "metadata": {
    "scrolled": true
   },
   "outputs": [],
   "source": [
    "counts = df[cat_col].astype(str).value_counts()\n",
    "\n",
    "plt.figure()\n",
    "plt.bar(counts.index, counts.values)\n",
    "plt.title(f\"Bar chart of {cat_col} (Top 10)\")\n",
    "plt.xlabel(cat_col); plt.ylabel(\"Count\")\n",
    "plt.xticks(rotation=45, ha=\"right\")\n",
    "plt.tight_layout(); plt.show()"
   ]
  },
  {
   "cell_type": "markdown",
   "id": "a3f8fdb3",
   "metadata": {},
   "source": [
    "#### Violin plot"
   ]
  },
  {
   "cell_type": "code",
   "execution_count": null,
   "id": "189a54c6",
   "metadata": {},
   "outputs": [],
   "source": [
    "top_cats = df[cat_col].astype(str).value_counts().head(8).index.tolist()\n",
    "data_per_cat = [\n",
    "    pd.to_numeric(df.loc[df[cat_col].astype(str) == c, num_col], errors=\"coerce\").dropna().values\n",
    "    for c in top_cats\n",
    "]\n",
    "\n",
    "plt.figure()\n",
    "plt.violinplot(data_per_cat, showmeans=True, showmedians=True, showextrema=True)\n",
    "plt.title(f\"Violin plot of {num_col} by {cat_col}\")\n",
    "plt.xlabel(cat_col); plt.ylabel(num_col)\n",
    "plt.xticks(ticks=np.arange(1, len(top_cats)+1), labels=top_cats, rotation=45, ha=\"right\")\n",
    "plt.tight_layout(); plt.show()"
   ]
  },
  {
   "cell_type": "markdown",
   "id": "e1c051f9",
   "metadata": {},
   "source": [
    "#### Scatter"
   ]
  },
  {
   "cell_type": "code",
   "execution_count": null,
   "id": "54ea0113",
   "metadata": {},
   "outputs": [],
   "source": [
    "# цена vs сидения\n",
    "x = pd.to_numeric(df['Seats'], errors=\"coerce\")\n",
    "y = pd.to_numeric(df[num_col],  errors=\"coerce\")\n",
    "mask = x.notna() & y.notna()\n",
    "\n",
    "plt.figure()\n",
    "plt.scatter(x[mask], y[mask], s=10, alpha=0.5)\n",
    "plt.title(f\"Scatter: Seats vs {num_col}\")\n",
    "plt.xlabel(num_col2); plt.ylabel(num_col)\n",
    "plt.tight_layout(); plt.show()"
   ]
  },
  {
   "cell_type": "code",
   "execution_count": null,
   "id": "afbc3b6f",
   "metadata": {
    "scrolled": true
   },
   "outputs": [],
   "source": [
    "# цена vs пробег\n",
    "x = pd.to_numeric(df[num_col2], errors=\"coerce\")\n",
    "y = pd.to_numeric(df[num_col],  errors=\"coerce\")\n",
    "mask = x.notna() & y.notna()\n",
    "\n",
    "plt.figure()\n",
    "plt.scatter(x[mask], y[mask], s=10, alpha=0.5)\n",
    "plt.title(f\"Scatter: {num_col2} vs {num_col}\")\n",
    "plt.xlabel(num_col2); plt.ylabel(num_col)\n",
    "plt.tight_layout(); plt.show()"
   ]
  },
  {
   "cell_type": "markdown",
   "id": "2301e9db",
   "metadata": {},
   "source": [
    "#### Hexbin (плотность точек в 2D)"
   ]
  },
  {
   "cell_type": "code",
   "execution_count": null,
   "id": "fe6864d8",
   "metadata": {},
   "outputs": [],
   "source": [
    "x = pd.to_numeric(df['Seats'], errors=\"coerce\")\n",
    "y = pd.to_numeric(df[num_col],  errors=\"coerce\")\n",
    "mask = x.notna() & y.notna()\n",
    "\n",
    "plt.figure()\n",
    "hb = plt.hexbin(x[mask], y[mask], gridsize=40, mincnt=1)\n",
    "plt.title(f\"Hexbin: {num_col2} vs {num_col}\")\n",
    "plt.xlabel(num_col2); plt.ylabel(num_col)\n",
    "cb = plt.colorbar(hb); cb.set_label(\"count\")\n",
    "plt.tight_layout(); plt.show()"
   ]
  },
  {
   "cell_type": "code",
   "execution_count": null,
   "id": "d5d378ae",
   "metadata": {},
   "outputs": [],
   "source": [
    "x = pd.to_numeric(df[num_col2], errors=\"coerce\")\n",
    "y = pd.to_numeric(df[num_col],  errors=\"coerce\")\n",
    "mask = x.notna() & y.notna()\n",
    "\n",
    "plt.figure()\n",
    "hb = plt.hexbin(x[mask], y[mask], gridsize=40, mincnt=1)\n",
    "plt.title(f\"Hexbin: {num_col2} vs {num_col}\")\n",
    "plt.xlabel(num_col2); plt.ylabel(num_col)\n",
    "cb = plt.colorbar(hb); cb.set_label(\"count\")\n",
    "plt.tight_layout(); plt.show()"
   ]
  },
  {
   "cell_type": "code",
   "execution_count": null,
   "id": "909872d4",
   "metadata": {},
   "outputs": [],
   "source": []
  },
  {
   "cell_type": "markdown",
   "id": "1e48384d",
   "metadata": {},
   "source": [
    "## Статистический анализ и визуализация данных\n"
   ]
  },
  {
   "cell_type": "markdown",
   "id": "4f569912",
   "metadata": {},
   "source": [
    "#### Показатели центральной тенденции: среднее, медиана, мода"
   ]
  },
  {
   "cell_type": "code",
   "execution_count": 11,
   "id": "694a50e7",
   "metadata": {},
   "outputs": [
    {
     "name": "stdout",
     "output_type": "stream",
     "text": [
      "Mean:   9.4795\n",
      "Median: 5.6400\n",
      "Mode:   4.5000\n",
      "All modes (head): [4.5]\n"
     ]
    }
   ],
   "source": [
    "from scipy import stats\n",
    "\n",
    "s = pd.to_numeric(df[num_col], errors=\"coerce\").dropna()\n",
    "\n",
    "mean_val   = s.mean()\n",
    "median_val = s.median()\n",
    "mode_vals  = s.mode()              \n",
    "mode_val   = mode_vals.iloc[0] if len(mode_vals) > 0 else np.nan\n",
    "\n",
    "print(f\"Mean:   {mean_val:.4f}\")\n",
    "print(f\"Median: {median_val:.4f}\")\n",
    "print(f\"Mode:   {mode_val:.4f}\")\n",
    "print(f\"All modes (head): {mode_vals.head().tolist()}\")"
   ]
  },
  {
   "cell_type": "markdown",
   "id": "19cd58c2",
   "metadata": {},
   "source": [
    "#### Меры разброса: размах, дисперсия, стандартное отклонение, IQR, MAD"
   ]
  },
  {
   "cell_type": "code",
   "execution_count": null,
   "id": "7fa62ac0",
   "metadata": {},
   "outputs": [],
   "source": [
    "s = pd.to_numeric(df[num_col], errors=\"coerce\").dropna()\n",
    "\n",
    "data_range = s.max() - s.min()\n",
    "variance   = s.var(ddof=1)          \n",
    "stdev      = s.std(ddof=1)          \n",
    "q1, q3     = np.percentile(s, [25, 75])\n",
    "iqr        = q3 - q1\n",
    "mad        = stats.median_abs_deviation(s, scale='normal', nan_policy='omit')\n",
    "\n",
    "print(f\"Range (max - min): {data_range:.4f}\")\n",
    "print(f\"Variance (ddof=1): {variance:.4f}\")\n",
    "print(f\"Std dev  (ddof=1): {stdev:.4f}\")\n",
    "print(f\"IQR (Q3-Q1):       {iqr:.4f}  [Q1={q1:.4f}, Q3={q3:.4f}]\")\n",
    "print(f\"MAD (robust):      {mad:.4f}\")"
   ]
  },
  {
   "cell_type": "markdown",
   "id": "310ff187",
   "metadata": {},
   "source": [
    "#### Форма распределения: асимметрия (skewness), эксцесс (kurtosis)"
   ]
  },
  {
   "cell_type": "code",
   "execution_count": null,
   "id": "a3cdbc67",
   "metadata": {},
   "outputs": [],
   "source": [
    "s = pd.to_numeric(df[num_col], errors=\"coerce\").dropna()\n",
    "\n",
    "skew_val  = stats.skew(s, bias=False, nan_policy='omit')\n",
    "kurt_val  = stats.kurtosis(s, fisher=True, bias=False, nan_policy='omit')\n",
    "\n",
    "print(f\"Skewness: {skew_val:.4f}\")\n",
    "print(f\"Kurtosis (excess): {kurt_val:.4f}\")"
   ]
  },
  {
   "cell_type": "markdown",
   "id": "3bd71861",
   "metadata": {},
   "source": [
    "#### Корреляция признаков: Пирсон, Спирмен, Кендалл (матрицы и пара столбцов)"
   ]
  },
  {
   "cell_type": "code",
   "execution_count": null,
   "id": "9e3d531b",
   "metadata": {},
   "outputs": [],
   "source": [
    "num_df = df.select_dtypes(include=[np.number]).replace([np.inf, -np.inf], np.nan).dropna(axis=0, how=\"any\")\n",
    "\n",
    "pearson_corr  = num_df.corr(method=\"pearson\")\n",
    "spearman_corr = num_df.corr(method=\"spearman\")\n",
    "kendall_corr  = num_df.corr(method=\"kendall\")\n",
    "\n",
    "print(\"Pearson correlation (matrix):\")\n",
    "display(pearson_corr)\n",
    "\n",
    "print(\"Spearman correlation (matrix):\")\n",
    "display(spearman_corr)\n",
    "\n",
    "print(\"Kendall correlation (matrix):\")\n",
    "display(kendall_corr)\n",
    "\n",
    "# Корреляции для конкретной пары num_col & num_col2\n",
    "x = pd.to_numeric(df[num_col],  errors=\"coerce\")\n",
    "y = pd.to_numeric(df[num_col2], errors=\"coerce\")\n",
    "mask = x.notna() & y.notna()\n",
    "\n",
    "from scipy import stats\n",
    "print(\"\\nPairwise correlations:\")\n",
    "print(\"Pearson :\", stats.pearsonr(x[mask], y[mask]))\n",
    "print(\"Spearman:\", stats.spearmanr(x[mask], y[mask]))\n",
    "print(\"Kendall :\", stats.kendalltau(x[mask], y[mask]))"
   ]
  },
  {
   "cell_type": "markdown",
   "id": "60ad45d4",
   "metadata": {},
   "source": [
    "#### Групповые статистики: сводка по категориям, разница средних, сравнение распределений (KS-тест)"
   ]
  },
  {
   "cell_type": "code",
   "execution_count": null,
   "id": "bdd24686",
   "metadata": {},
   "outputs": [],
   "source": [
    "# Сводка по категориям\n",
    "g = df[[cat_col, num_col]].copy()\n",
    "g[num_col] = pd.to_numeric(g[num_col], errors=\"coerce\")\n",
    "summary = (\n",
    "    g.dropna()\n",
    "     .groupby(cat_col)[num_col]\n",
    "     .agg(['count', 'mean', 'median', 'std', 'min', 'max'])\n",
    "     .sort_values('count', ascending=False)\n",
    ")\n",
    "display(summary)\n",
    "\n",
    "# Выберем две самые частые категории\n",
    "top_two = summary.index[:2].tolist()\n",
    "if len(top_two) >= 2:\n",
    "    a = g.loc[g[cat_col] == top_two[0], num_col].dropna().values\n",
    "    b = g.loc[g[cat_col] == top_two[1], num_col].dropna().values\n",
    "\n",
    "    # Разница средних\n",
    "    diff_means = np.mean(a) - np.mean(b)\n",
    "\n",
    "    # Сравнение распределений (двухвыборочный KS-тест)\n",
    "    ks_stat, ks_p = stats.ks_2samp(a, b, alternative='two-sided', method='auto')\n",
    "\n",
    "    print(f\"\\nTop groups: {top_two[0]} vs {top_two[1]}\")\n",
    "    print(f\"Mean({top_two[0]}) - Mean({top_two[1]}): {diff_means:.4f}\")\n",
    "    print(f\"KS test: statistic={ks_stat:.4f}, p-value={ks_p:.4g}\")\n",
    "else:\n",
    "    print(\"Недостаточно категорий для попарного сравнения.\")"
   ]
  },
  {
   "cell_type": "markdown",
   "id": "a8dd7145",
   "metadata": {},
   "source": [
    "#### Доверительный интервал для среднего (t-интервал, 95%)"
   ]
  },
  {
   "cell_type": "code",
   "execution_count": 12,
   "id": "490175ef",
   "metadata": {},
   "outputs": [
    {
     "name": "stdout",
     "output_type": "stream",
     "text": [
      "95% CI for mean of Price: [9.1968, 9.7622]\n",
      "n=6019, mean=9.4795, sd=11.1879, se=0.1442, t*=1.9604\n"
     ]
    }
   ],
   "source": [
    "s = pd.to_numeric(df[num_col], errors=\"coerce\").replace([np.inf, -np.inf], np.nan).dropna()\n",
    "\n",
    "alpha = 0.05\n",
    "n  = s.size\n",
    "m  = s.mean()\n",
    "sd = s.std(ddof=1)\n",
    "se = sd / np.sqrt(n)\n",
    "\n",
    "t_crit = stats.t.ppf(1 - alpha/2, df=n-1)\n",
    "ci_low, ci_high = m - t_crit*se, m + t_crit*se\n",
    "\n",
    "print(f\"{int((1-alpha)*100)}% CI for mean of {num_col}: [{ci_low:.4f}, {ci_high:.4f}]\")\n",
    "print(f\"n={n}, mean={m:.4f}, sd={sd:.4f}, se={se:.4f}, t*={t_crit:.4f}\")"
   ]
  },
  {
   "cell_type": "markdown",
   "id": "f9398076",
   "metadata": {},
   "source": [
    "#### t-тест для двух независимых групп (Welch, неравные дисперсии)"
   ]
  },
  {
   "cell_type": "code",
   "execution_count": 13,
   "id": "751721c1",
   "metadata": {},
   "outputs": [
    {
     "name": "stdout",
     "output_type": "stream",
     "text": [
      "Welch t-test: Diesel vs Petrol\n",
      "t-statistic = 26.7878, p-value = 2.81993e-148\n",
      "Mean(Diesel)=12.8406, Mean(Petrol)=5.7011, n1=3205, n2=2746\n"
     ]
    }
   ],
   "source": [
    "# Возьмём две самые частые категории\n",
    "g = df[[cat_col, num_col]].copy()\n",
    "g[num_col] = pd.to_numeric(g[num_col], errors=\"coerce\")\n",
    "counts = g[cat_col].value_counts().index.tolist()\n",
    "\n",
    "if len(counts) >= 2:\n",
    "    grp1, grp2 = counts[0], counts[1]\n",
    "    a = g.loc[g[cat_col] == grp1, num_col].dropna().values\n",
    "    b = g.loc[g[cat_col] == grp2, num_col].dropna().values\n",
    "\n",
    "    t_stat, p_val = stats.ttest_ind(a, b, equal_var=False, alternative='two-sided')  # Welch\n",
    "    print(f\"Welch t-test: {grp1} vs {grp2}\")\n",
    "    print(f\"t-statistic = {t_stat:.4f}, p-value = {p_val:.6g}\")\n",
    "    print(f\"Mean({grp1})={np.mean(a):.4f}, Mean({grp2})={np.mean(b):.4f}, n1={a.size}, n2={b.size}\")\n",
    "else:\n",
    "    print(\"Недостаточно категорий для t-теста.\")"
   ]
  },
  {
   "cell_type": "code",
   "execution_count": null,
   "id": "edccc1ae",
   "metadata": {},
   "outputs": [],
   "source": []
  },
  {
   "cell_type": "markdown",
   "id": "e976fdb7",
   "metadata": {},
   "source": [
    "## Временные ряды\n"
   ]
  },
  {
   "cell_type": "markdown",
   "id": "c6188cc6",
   "metadata": {},
   "source": [
    "#### Получение датасета и первая оценка"
   ]
  },
  {
   "cell_type": "code",
   "execution_count": null,
   "id": "6ac56030",
   "metadata": {},
   "outputs": [],
   "source": [
    "import pandas as pd\n",
    "import numpy as np\n",
    "import matplotlib.pyplot as plt\n",
    "from statsmodels.tsa.stattools import adfuller, kpss\n",
    "from statsmodels.graphics.tsaplots import plot_acf, plot_pacf\n",
    "from statsmodels.tsa.seasonal import STL\n",
    "from scipy import stats\n",
    "import warnings\n",
    "warnings.filterwarnings(\"ignore\")\n",
    "\n",
    "# скачиваем массив\n",
    "url = \"https://raw.githubusercontent.com/jbrownlee/Datasets/master/monthly-airline-passengers.csv\"\n",
    "df = pd.read_csv(url)\n",
    "\n",
    "# приведение к временному индексу\n",
    "df.columns = [\"Month\", \"Passengers\"]\n",
    "df[\"Month\"] = pd.to_datetime(df[\"Month\"])\n",
    "ts = df.set_index(\"Month\")[\"Passengers\"].asfreq(\"MS\")\n",
    "\n",
    "ts.head()"
   ]
  },
  {
   "cell_type": "markdown",
   "id": "3f91d21b",
   "metadata": {},
   "source": [
    "#### Базовой взгляд на ряд"
   ]
  },
  {
   "cell_type": "code",
   "execution_count": null,
   "id": "86219dd8",
   "metadata": {},
   "outputs": [],
   "source": [
    "plt.figure(figsize=(10,4))\n",
    "ts.plot(title=\"Airline Passengers (Monthly)\", grid=True)\n",
    "plt.show()\n",
    "\n",
    "ts.groupby(ts.index.month).mean().plot(marker=\"o\", title=\"Среднее по месяцам\")\n",
    "plt.show()"
   ]
  },
  {
   "cell_type": "markdown",
   "id": "b28445da",
   "metadata": {},
   "source": [
    "#### Функции-помощники для тестов стационарности"
   ]
  },
  {
   "cell_type": "code",
   "execution_count": null,
   "id": "fbc5d907",
   "metadata": {},
   "outputs": [],
   "source": [
    "def adf_test(x, title=\"ADF\"):\n",
    "    x = x.dropna()\n",
    "    stat, p, lags, nobs, crit, _ = adfuller(x, autolag=\"AIC\")\n",
    "    print(f\"{title}: ADF={stat:.3f}, p-value={p:.4f}, usedlags={lags}, nobs={nobs}\")\n",
    "    print(\"Critical values:\", {k: round(v,3) for k,v in crit.items()})\n",
    "    return p\n",
    "\n",
    "def kpss_test(x, title=\"KPSS\"):\n",
    "    x = x.dropna()\n",
    "    stat, p, lags, crit = kpss(x, regression=\"c\", nlags=\"auto\")\n",
    "    print(f\"{title}: KPSS={stat:.3f}, p-value={p:.4f}, lags={lags}\")\n",
    "    print(\"Critical values:\", {k: round(v,3) for k,v in crit.items()})\n",
    "    return p\n",
    "\n",
    "print(\"Оригинальный ряд\")\n",
    "adf_test(ts, \"ADF original\"); kpss_test(ts, \"KPSS original\")"
   ]
  },
  {
   "cell_type": "markdown",
   "id": "66f44ac1",
   "metadata": {},
   "source": [
    "#### Диагностика сезонности и тренда (STL)"
   ]
  },
  {
   "cell_type": "code",
   "execution_count": null,
   "id": "cb445856",
   "metadata": {},
   "outputs": [],
   "source": [
    "stl = STL(ts, period=12)\n",
    "res = stl.fit()\n",
    "fig = res.plot()\n",
    "fig.set_size_inches(10, 8)\n",
    "plt.show()"
   ]
  },
  {
   "cell_type": "markdown",
   "id": "8dbe45e2",
   "metadata": {},
   "source": [
    "#### Преобразования масштаба: лог и Box-Cox"
   ]
  },
  {
   "cell_type": "code",
   "execution_count": null,
   "id": "4d1383fa",
   "metadata": {},
   "outputs": [],
   "source": [
    "# Лог-трансформация (стабилизация дисперсии)\n",
    "ts_log = np.log(ts)\n",
    "\n",
    "# Box-Cox\n",
    "ts_boxcox, lam = stats.boxcox(ts.values)\n",
    "ts_boxcox = pd.Series(ts_boxcox, index=ts.index, name=\"Passengers_boxcox\")\n",
    "lam"
   ]
  },
  {
   "cell_type": "markdown",
   "id": "a0617dd2",
   "metadata": {},
   "source": [
    "#### Дифференцирование: обычное и сезонное"
   ]
  },
  {
   "cell_type": "code",
   "execution_count": null,
   "id": "56f00f92",
   "metadata": {},
   "outputs": [],
   "source": [
    "# Первая разность для тренда\n",
    "ts_log_d1 = ts_log.diff(1)\n",
    "\n",
    "# Сезонная разность по периоду 12\n",
    "ts_log_d1_D1 = ts_log_d1.diff(12)\n",
    "\n",
    "fig, axes = plt.subplots(3,1, figsize=(10,8))\n",
    "ts.plot(ax=axes[0], title=\"Оригинал\")\n",
    "ts_log_d1.plot(ax=axes[1], title=\"Лог + первая разность (d=1)\")\n",
    "ts_log_d1_D1.plot(ax=axes[2], title=\"Лог + d=1 + сезонная D=1 (m=12)\")\n",
    "for ax in axes: ax.grid(True)\n",
    "plt.tight_layout(); plt.show()\n",
    "\n",
    "print(\"Тесты после трансформаций\")\n",
    "print(\"Лог + d=1\")\n",
    "adf_test(ts_log_d1.dropna(), \"ADF\"); kpss_test(ts_log_d1.dropna(), \"KPSS\")\n",
    "\n",
    "print(\"\\nЛог + d=1 + D=1\")\n",
    "adf_test(ts_log_d1_D1.dropna(), \"ADF\"); kpss_test(ts_log_d1_D1.dropna(), \"KPSS\")"
   ]
  },
  {
   "cell_type": "markdown",
   "id": "c6c83415",
   "metadata": {},
   "source": [
    "#### ACF/PACF для выбора порядков (на стационарном ряду)"
   ]
  },
  {
   "cell_type": "code",
   "execution_count": null,
   "id": "86b73b78",
   "metadata": {},
   "outputs": [],
   "source": [
    "stationary = ts_log_d1_D1.dropna()\n",
    "\n",
    "plt.figure(figsize=(10,3.5))\n",
    "plot_acf(stationary, lags=36)\n",
    "plt.show()\n",
    "\n",
    "plt.figure(figsize=(10,3.5))\n",
    "plot_pacf(stationary, lags=36, method=\"ywm\")\n",
    "plt.show()"
   ]
  },
  {
   "cell_type": "code",
   "execution_count": null,
   "id": "c13e6538",
   "metadata": {},
   "outputs": [],
   "source": []
  },
  {
   "cell_type": "markdown",
   "id": "d1745685",
   "metadata": {},
   "source": [
    "## Работа с выбросами и аномалиями\n"
   ]
  },
  {
   "cell_type": "code",
   "execution_count": null,
   "id": "0af99494",
   "metadata": {},
   "outputs": [],
   "source": [
    "import pandas as pd, numpy as np, matplotlib.pyplot as plt\n",
    "from scipy import stats\n",
    "from scipy.stats.mstats import winsorize\n",
    "from sklearn.ensemble import IsolationForest\n",
    "from sklearn.neighbors import LocalOutlierFactor\n",
    "from sklearn.preprocessing import RobustScaler\n",
    "\n",
    "# скачиваем данные\n",
    "URL = \"https://archive.ics.uci.edu/ml/machine-learning-databases/wine-quality/winequality-red.csv\"\n",
    "df = pd.read_csv(URL, sep=';')\n",
    "df.head()"
   ]
  },
  {
   "cell_type": "markdown",
   "id": "8092cb04",
   "metadata": {},
   "source": [
    "#### Базовые проверки + быстрые визуализации"
   ]
  },
  {
   "cell_type": "code",
   "execution_count": null,
   "id": "75f1fbe9",
   "metadata": {},
   "outputs": [],
   "source": [
    "# Гистограммы + \"ящики\" Тьюки\n",
    "num_cols = df.columns\n",
    "fig, axes = plt.subplots(len(num_cols), 2, figsize=(10, 3*len(num_cols)))\n",
    "for i, c in enumerate(num_cols):\n",
    "    axes[i,0].hist(df[c], bins=30); axes[i,0].set_title(f\"Hist: {c}\")\n",
    "    axes[i,1].boxplot(df[c], vert=False); axes[i,1].set_title(f\"Boxplot: {c}\")\n",
    "plt.tight_layout(); plt.show()"
   ]
  },
  {
   "cell_type": "markdown",
   "id": "bf318d64",
   "metadata": {},
   "source": [
    "#### Z-score (Гауссовы хвосты)"
   ]
  },
  {
   "cell_type": "code",
   "execution_count": null,
   "id": "63cff952",
   "metadata": {},
   "outputs": [],
   "source": [
    "# модульные z-оценки\n",
    "z = np.abs(stats.zscore(df[num_cols], nan_policy='omit'))\n",
    "outliers_z = (z > 3).any(axis=1)\n",
    "print(f\"Выбросов по Z-score: {outliers_z.sum()} из {len(df)}\")\n",
    "df_z = df[~outliers_z].copy()"
   ]
  },
  {
   "cell_type": "markdown",
   "id": "a1bb179c",
   "metadata": {},
   "source": [
    "#### IQR (правило Тьюки) для каждого признака"
   ]
  },
  {
   "cell_type": "code",
   "execution_count": null,
   "id": "2b9d2556",
   "metadata": {},
   "outputs": [],
   "source": [
    "def iqr_mask(frame, k=1.5):\n",
    "    mask = pd.Series(False, index=frame.index)\n",
    "    for c in frame.columns:\n",
    "        q1, q3 = frame[c].quantile([0.25, 0.75])\n",
    "        iqr = q3 - q1\n",
    "        low, high = q1 - k*iqr, q3 + k*iqr\n",
    "        mask |= (frame[c] < low) | (frame[c] > high)\n",
    "    return mask\n",
    "\n",
    "outliers_iqr = iqr_mask(df[num_cols], k=1.5)\n",
    "print(f\"Выбросов по IQR: {outliers_iqr.sum()} из {len(df)}\")\n",
    "df_iqr = df[~outliers_iqr].copy()"
   ]
  },
  {
   "cell_type": "markdown",
   "id": "eade3548",
   "metadata": {},
   "source": [
    "#### MAD (modified Z-score)"
   ]
  },
  {
   "cell_type": "code",
   "execution_count": null,
   "id": "310645a5",
   "metadata": {},
   "outputs": [],
   "source": [
    "def modified_zscore(x):\n",
    "    x = x.astype(float)\n",
    "    med = np.median(x)\n",
    "    mad = np.median(np.abs(x - med))\n",
    "    if mad == 0:\n",
    "        return np.zeros_like(x)\n",
    "    return 0.6745 * (x - med) / mad\n",
    "\n",
    "mask_mad = pd.Series(False, index=df.index)\n",
    "for c in num_cols:\n",
    "    mz = np.abs(modified_zscore(df[c].values))\n",
    "    mask_mad |= (mz > 3.5)   # порог 3.5 часто используют для MAD\n",
    "print(f\"Выбросов по MAD: {mask_mad.sum()} из {len(df)}\")\n",
    "df_mad = df[~mask_mad].copy()"
   ]
  },
  {
   "cell_type": "code",
   "execution_count": null,
   "id": "46d75008",
   "metadata": {},
   "outputs": [],
   "source": []
  },
  {
   "cell_type": "markdown",
   "id": "cd951700",
   "metadata": {},
   "source": [
    "## Работа с текстовой информацией\n"
   ]
  },
  {
   "cell_type": "code",
   "execution_count": null,
   "id": "995181c9",
   "metadata": {},
   "outputs": [],
   "source": [
    "import pandas as pd\n",
    "import matplotlib.pyplot as plt\n",
    "import seaborn as sns\n",
    "\n",
    "# скачиваем данные\n",
    "url = \"https://raw.githubusercontent.com/Arjun-Mota/amazon-product-reviews-sentiment-analysis/master/1429_1.csv\"\n",
    "df = pd.read_csv(url)\n",
    "\n",
    "print(df.columns)\n",
    "df.head()"
   ]
  },
  {
   "cell_type": "code",
   "execution_count": null,
   "id": "aee4c74a",
   "metadata": {},
   "outputs": [],
   "source": [
    "# оставляем нужные колонки\n",
    "df = df[['reviews.text', 'reviews.rating']].dropna()\n",
    "\n",
    "df['sentiment'] = (df['reviews.rating'] >= 4).astype(int)\n",
    "df = df.rename(columns={'reviews.text': 'text'})\n",
    "\n",
    "print(df.shape)\n",
    "print(df['sentiment'].value_counts())\n",
    "df.head()"
   ]
  },
  {
   "cell_type": "markdown",
   "id": "524fe7f6",
   "metadata": {},
   "source": [
    "#### Базовая предобработка текста"
   ]
  },
  {
   "cell_type": "code",
   "execution_count": null,
   "id": "bbc876be",
   "metadata": {},
   "outputs": [],
   "source": [
    "import re\n",
    "import string\n",
    "import nltk\n",
    "from nltk.corpus import stopwords\n",
    "from nltk.stem import WordNetLemmatizer\n",
    "\n",
    "nltk.download('stopwords')\n",
    "nltk.download('wordnet')\n",
    "nltk.download('omw-1.4')\n",
    "\n",
    "stop = set(stopwords.words('english'))\n",
    "lemm = WordNetLemmatizer()\n",
    "\n",
    "#  очищаем текст\n",
    "def clean_text(t):\n",
    "    if not isinstance(t, str):   # на случай пропущенных значений\n",
    "        return \"\"\n",
    "    t = t.lower()                               # нижний регистр\n",
    "    t = re.sub(r\"http\\S+|www\\S+\", \"\", t)        # убираем ссылки\n",
    "    t = re.sub(f\"[{re.escape(string.punctuation)}]\", \"\", t)  # пунктуация\n",
    "    t = re.sub(r\"\\d+\", \"\", t)                   # цифры\n",
    "    t = re.sub(r\"\\s+\", \" \", t).strip()          # лишние пробелы\n",
    "    words = [lemm.lemmatize(w) for w in t.split() if w not in stop]\n",
    "    return \" \".join(words)\n",
    "\n",
    "# применяем\n",
    "df['clean'] = df['text'].apply(clean_text)\n",
    "\n",
    "df[['text', 'clean']].head()"
   ]
  },
  {
   "cell_type": "markdown",
   "id": "bab99078",
   "metadata": {},
   "source": [
    "#### Частотный анализ слов"
   ]
  },
  {
   "cell_type": "code",
   "execution_count": null,
   "id": "012f4e78",
   "metadata": {},
   "outputs": [],
   "source": [
    "from collections import Counter\n",
    "import pandas as pd\n",
    "import matplotlib.pyplot as plt\n",
    "import seaborn as sns\n",
    "\n",
    "# частотный анализ слов в очищенных отзывах\n",
    "all_text = \" \".join(df['clean'].dropna()).split()\n",
    "\n",
    "# считаем частоты слов\n",
    "word_counts = Counter(all_text)\n",
    "\n",
    "# формируем таблицу топ-20\n",
    "top20 = pd.DataFrame(word_counts.most_common(20), columns=['word', 'count'])\n",
    "\n",
    "# рисуем\n",
    "plt.figure(figsize=(8,4))\n",
    "sns.barplot(x='count', y='word', data=top20, palette='viridis')\n",
    "plt.title(\"20 самых частых слов в отзывах Amazon\")\n",
    "plt.xlabel(\"Частота\")\n",
    "plt.ylabel(\"Слово\")\n",
    "plt.tight_layout()\n",
    "plt.show()\n"
   ]
  },
  {
   "cell_type": "markdown",
   "id": "ae4f1fa1",
   "metadata": {},
   "source": [
    "#### Частотность n-грамм (биграммы/триграммы)"
   ]
  },
  {
   "cell_type": "code",
   "execution_count": null,
   "id": "8030918c",
   "metadata": {},
   "outputs": [],
   "source": [
    "from sklearn.feature_extraction.text import CountVectorizer\n",
    "import pandas as pd\n",
    "import matplotlib.pyplot as plt\n",
    "import seaborn as sns\n",
    "\n",
    "# извлечение биграмм\n",
    "vec = CountVectorizer(ngram_range=(2, 2), max_features=20)\n",
    "X = vec.fit_transform(df['clean'].dropna())\n",
    "\n",
    "# формируем таблицу \n",
    "ngrams = pd.DataFrame({\n",
    "    'bigram': vec.get_feature_names_out(),\n",
    "    'count': X.toarray().sum(axis=0)\n",
    "})\n",
    "\n",
    "# сортируем\n",
    "ngrams = ngrams.sort_values('count', ascending=False).reset_index(drop=True)\n",
    "\n",
    "\n",
    "plt.figure(figsize=(8,4))\n",
    "sns.barplot(y='bigram', x='count', data=ngrams, palette='crest')\n",
    "plt.title(\"Наиболее частые биграммы в отзывах Amazon\")\n",
    "plt.xlabel(\"Частота\")\n",
    "plt.ylabel(\"Биграмма\")\n",
    "plt.tight_layout()\n",
    "plt.show()\n"
   ]
  },
  {
   "cell_type": "markdown",
   "id": "926899a9",
   "metadata": {},
   "source": [
    "#### TF-IDF: выделяем «важные слова»"
   ]
  },
  {
   "cell_type": "code",
   "execution_count": null,
   "id": "b2819247",
   "metadata": {},
   "outputs": [],
   "source": [
    "from sklearn.feature_extraction.text import TfidfVectorizer\n",
    "import pandas as pd\n",
    "import matplotlib.pyplot as plt\n",
    "\n",
    "# TF-IDF векторизация текста\n",
    "tfidf = TfidfVectorizer(max_features=15)\n",
    "X_tfidf = tfidf.fit_transform(df['clean'].dropna())\n",
    "\n",
    "# создаём датафрейм\n",
    "features = pd.DataFrame(\n",
    "    X_tfidf.toarray(),\n",
    "    columns=tfidf.get_feature_names_out()\n",
    ")\n",
    "\n",
    "# посмотрим первые строки\n",
    "features.head()\n",
    "\n",
    "# визуализируем\n",
    "plt.figure(figsize=(8,4))\n",
    "(features.mean()\n",
    " .sort_values(ascending=True)\n",
    " .tail(15)\n",
    " .plot.barh(title=\"Самые информативные слова в отзывах Amazon (TF-IDF)\"))\n",
    "\n",
    "plt.xlabel(\"Средний TF-IDF вес\")\n",
    "plt.ylabel(\"Слово\")\n",
    "plt.tight_layout()\n",
    "plt.show()"
   ]
  }
 ],
 "metadata": {
  "kernelspec": {
   "display_name": "proectnayShkola",
   "language": "python",
   "name": "python3"
  },
  "language_info": {
   "codemirror_mode": {
    "name": "ipython",
    "version": 3
   },
   "file_extension": ".py",
   "mimetype": "text/x-python",
   "name": "python",
   "nbconvert_exporter": "python",
   "pygments_lexer": "ipython3",
   "version": "3.13.7"
  }
 },
 "nbformat": 4,
 "nbformat_minor": 5
}
