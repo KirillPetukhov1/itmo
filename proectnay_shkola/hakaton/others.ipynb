{
 "cells": [
  {
   "cell_type": "code",
   "execution_count": 19,
   "id": "65f68d74",
   "metadata": {},
   "outputs": [],
   "source": [
    "import pandas as pd\n",
    "import numpy as np\n",
    "from pathlib import Path\n",
    "\n",
    "CURR_DIR = Path.cwd()"
   ]
  },
  {
   "cell_type": "markdown",
   "id": "c637e6fe",
   "metadata": {},
   "source": [
    "### JSON to csv"
   ]
  },
  {
   "cell_type": "code",
   "execution_count": 20,
   "id": "bac1a9b6",
   "metadata": {},
   "outputs": [],
   "source": [
    "json_file = 'clean_data.json'\n",
    "output_csv_file = 'clean_data.csv'\n",
    "\n",
    "json_path = CURR_DIR / json_file\n",
    "output_csv_file_path = CURR_DIR / output_csv_file\n",
    "\n",
    "with open(json_path, encoding='utf-8') as input_file:\n",
    "    df = pd.read_json(input_file)\n",
    "\n",
    "df.to_csv(output_csv_file_path, encoding='utf-8', index=False)"
   ]
  },
  {
   "cell_type": "markdown",
   "id": "acfbdda8",
   "metadata": {},
   "source": [
    "### CSV to json"
   ]
  },
  {
   "cell_type": "code",
   "execution_count": null,
   "id": "40d57f58",
   "metadata": {},
   "outputs": [],
   "source": [
    "csv_file = 'clean_data2.csv'\n",
    "output_json_file = 'clean_data2.json'\n",
    "\n",
    "csv_path = CURR_DIR / csv_file\n",
    "output_json_file_path = CURR_DIR / output_json_file\n",
    "\n",
    "with open(csv_path, encoding='utf-8') as input_file:\n",
    "    df = pd.read_csv(input_file)\n",
    "\n",
    "df.to_json(output_json_file_path,  index=False, force_ascii=True)"
   ]
  },
  {
   "cell_type": "markdown",
   "id": "3d185152",
   "metadata": {},
   "source": [
    "### Удаление по IDX"
   ]
  },
  {
   "cell_type": "code",
   "execution_count": 25,
   "id": "aa0200bd",
   "metadata": {},
   "outputs": [],
   "source": [
    "csv_file = 'clean_data1.csv'\n",
    "output_csv_file = 'clean_data2.csv'\n",
    "# idxes = ['4377', '5586', '5587', '5749', '5758', '5955', '6053', '6925']\n",
    "# idxes = ['4377', '5586', '5587', '5749', '5758', '5955', '6053', '6925', '1263', '4347', '4447', '512', '5602', '5682', '5831', '5909', '6154', '6344', '7012', '6666', '7047', '6884']\n",
    "# idxes = ['6029', '6526', '6644', '5931', '5980']\n",
    "idxes = ['6029']\n",
    "\n",
    "idxes_array = np.array(idxes)\n",
    "\n",
    "df = pd.read_csv(csv_file)\n",
    "\n",
    "mask = ~df['idx'].isin(idxes_array)\n",
    "df = df[mask]\n",
    "\n",
    "df.to_csv(output_csv_file)"
   ]
  },
  {
   "cell_type": "markdown",
   "id": "46fe9681",
   "metadata": {},
   "source": [
    "### Очистка vs удаление"
   ]
  },
  {
   "cell_type": "code",
   "execution_count": 23,
   "id": "9fbc3125",
   "metadata": {},
   "outputs": [],
   "source": [
    "def remove_duplicates_instr(text: str, spaces: int = 3) -> str:\n",
    "    # spaces - через сколько слов происходит разрыв    \n",
    "    splitted_text = text.split()\n",
    "    index = 0\n",
    "    while index < len(splitted_text):\n",
    "        other_substr = list(filter(lambda x: x[1] == splitted_text[index], [(k, splitted_text[k]) for k in range(index+1, len(splitted_text))]))\n",
    "        if len(other_substr) == 0:\n",
    "            index+=1\n",
    "            continue\n",
    "        new_other_substr = [other_substr[0]]\n",
    "        for j in range(1, len(other_substr)):\n",
    "            if new_other_substr[-1][0] + spaces < other_substr[j][0]:\n",
    "                break\n",
    "            new_other_substr.append(other_substr[j])\n",
    "        for j in new_other_substr:\n",
    "            splitted_text[j[0]] = ''\n",
    "        splitted_text = [j for j in splitted_text if j != '']\n",
    "        index+=1\n",
    "    return ' '.join(splitted_text)"
   ]
  },
  {
   "cell_type": "code",
   "execution_count": null,
   "id": "730b7410",
   "metadata": {},
   "outputs": [],
   "source": [
    "csv_file = 'clean_data1.csv'\n",
    "output1_csv_file = 'clean_data_del.csv'\n",
    "output2_csv_file = 'clean_data_cut.csv'\n",
    "\n",
    "idxes = ['']\n",
    "\n",
    "df = pd.read_csv(csv_file)\n",
    "result1_df = df.copy()\n",
    "result2_df = df.copy()\n",
    "\n",
    "# Преобразуем idxes в numpy array\n",
    "idxes_array = np.array(idxes)\n",
    "\n",
    "# Создаем маску для строк, которые нужно обработать\n",
    "mask1 = ~result1_df['idx'].isin(idxes_array)\n",
    "mask2 = result2_df['idx'].isin(idxes_array)\n",
    "\n",
    "# Обрабатываем строки\n",
    "result1_df = result1_df[mask]\n",
    "result2_df.loc[mask, 'text'] = result2_df.loc[mask, 'text'].apply(lambda x: remove_duplicates_instr(x))\n",
    "\n",
    "result1_df.to_csv(output1_csv_file)\n",
    "result2_df.to_csv(output2_csv_file)"
   ]
  }
 ],
 "metadata": {
  "kernelspec": {
   "display_name": "proectnay_shkola",
   "language": "python",
   "name": "python3"
  },
  "language_info": {
   "codemirror_mode": {
    "name": "ipython",
    "version": 3
   },
   "file_extension": ".py",
   "mimetype": "text/x-python",
   "name": "python",
   "nbconvert_exporter": "python",
   "pygments_lexer": "ipython3",
   "version": "3.13.9"
  }
 },
 "nbformat": 4,
 "nbformat_minor": 5
}
